{
 "cells": [
  {
   "cell_type": "markdown",
   "id": "87365fc5",
   "metadata": {},
   "source": [
    "1. Enter each of the matrices A, B, and C as Numpy matrix."
   ]
  },
  {
   "cell_type": "code",
   "execution_count": 26,
   "id": "f23ff8fd",
   "metadata": {},
   "outputs": [
    {
     "name": "stdout",
     "output_type": "stream",
     "text": [
      "\n",
      "A = [[ 1 -2  3  7]\n",
      " [ 2  1  1  4]\n",
      " [-3  2 -2 10]] \n",
      "\n",
      "B = [[ 0  1 -3 -2]\n",
      " [10 -1  2 -3]\n",
      " [ 5  1 -1  4]] \n",
      "\n",
      "C = [[ 4  0 -2  3]\n",
      " [ 3  6  9  7]\n",
      " [ 2  2  5  1]\n",
      " [ 9  4  6 -2]]\n"
     ]
    }
   ],
   "source": [
    "import numpy as np\n",
    "# creating matrix using numpy\n",
    "A = np.matrix('1 -2 3 7; 2 1 1 4; -3 2 -2 10')\n",
    "B = np.matrix('0 1 -3 -2; 10 -1 2 -3; 5 1 -1 4')\n",
    "C = np.matrix('4 0 -2 3; 3 6 9 7; 2 2 5 1; 9 4 6 -2')\n",
    "print (\"\\nA =\",  A, \"\\n\\nB =\", B, \"\\n\\nC =\", C)\n"
   ]
  },
  {
   "cell_type": "markdown",
   "id": "d9f92476",
   "metadata": {},
   "source": [
    " 2. What are the dimensions of each of the matrices A, B, and C? Display these using Python code.\n"
   ]
  },
  {
   "cell_type": "code",
   "execution_count": 27,
   "id": "fd73e386",
   "metadata": {},
   "outputs": [
    {
     "data": {
      "text/plain": [
       "(3, 4)"
      ]
     },
     "execution_count": 27,
     "metadata": {},
     "output_type": "execute_result"
    }
   ],
   "source": [
    "A.shape # shape of array A"
   ]
  },
  {
   "cell_type": "code",
   "execution_count": 28,
   "id": "73fedae0",
   "metadata": {},
   "outputs": [
    {
     "data": {
      "text/plain": [
       "(3, 4)"
      ]
     },
     "execution_count": 28,
     "metadata": {},
     "output_type": "execute_result"
    }
   ],
   "source": [
    "B.shape # shape of array B"
   ]
  },
  {
   "cell_type": "code",
   "execution_count": 29,
   "id": "3242bfa2",
   "metadata": {},
   "outputs": [
    {
     "data": {
      "text/plain": [
       "(4, 4)"
      ]
     },
     "execution_count": 29,
     "metadata": {},
     "output_type": "execute_result"
    }
   ],
   "source": [
    "C.shape # shape of array C"
   ]
  },
  {
   "cell_type": "markdown",
   "id": "91adee56",
   "metadata": {},
   "source": [
    "3. Determine if each of the following matrix operations is defined. If it is defined, calculate the result\n",
    "using Python. If it is not defined, explain why it is not defined."
   ]
  },
  {
   "cell_type": "code",
   "execution_count": 30,
   "id": "3c55f868",
   "metadata": {},
   "outputs": [
    {
     "data": {
      "text/plain": [
       "matrix([[ 1, -1,  0,  5],\n",
       "        [12,  0,  3,  1],\n",
       "        [ 2,  3, -3, 14]])"
      ]
     },
     "execution_count": 30,
     "metadata": {},
     "output_type": "execute_result"
    }
   ],
   "source": [
    "# A+B\n",
    "print('A+B is defined')\n",
    "A + B\n"
   ]
  },
  {
   "cell_type": "code",
   "execution_count": 34,
   "id": "fa35c323",
   "metadata": {},
   "outputs": [
    {
     "name": "stdout",
     "output_type": "stream",
     "text": [
      "AB cannot be performed as inner numbers of matrix A and B doesnot match.\n"
     ]
    }
   ],
   "source": [
    "# AB\n",
    "print('AB cannot be performed as inner numbers of matrix A and B doesnot match.')"
   ]
  },
  {
   "cell_type": "code",
   "execution_count": 38,
   "id": "a16e180f",
   "metadata": {},
   "outputs": [
    {
     "name": "stdout",
     "output_type": "stream",
     "text": [
      "AC is defined\n"
     ]
    },
    {
     "data": {
      "text/plain": [
       "matrix([[ 67,  22,  37, -22],\n",
       "        [ 49,  24,  34,   6],\n",
       "        [ 80,  48,  74, -17]])"
      ]
     },
     "execution_count": 38,
     "metadata": {},
     "output_type": "execute_result"
    }
   ],
   "source": [
    "# AC\n",
    "print('AC is defined')\n",
    "A * C"
   ]
  },
  {
   "cell_type": "code",
   "execution_count": 39,
   "id": "836ab9d4",
   "metadata": {},
   "outputs": [
    {
     "name": "stdout",
     "output_type": "stream",
     "text": [
      "C is defined.\n"
     ]
    },
    {
     "data": {
      "text/plain": [
       "matrix([[ 4,  3,  2,  9],\n",
       "        [ 0,  6,  2,  4],\n",
       "        [-2,  9,  5,  6],\n",
       "        [ 3,  7,  1, -2]])"
      ]
     },
     "execution_count": 39,
     "metadata": {},
     "output_type": "execute_result"
    }
   ],
   "source": [
    "# C^T\n",
    "print('C is defined.')\n",
    "C.T"
   ]
  },
  {
   "cell_type": "markdown",
   "id": "f1a7a82c",
   "metadata": {},
   "source": [
    "4. Illustrate the following property of matrix transpositions using these matrices: (A + B)^T = A^T + B^T"
   ]
  },
  {
   "cell_type": "code",
   "execution_count": 40,
   "id": "96544796",
   "metadata": {},
   "outputs": [
    {
     "data": {
      "text/plain": [
       "matrix([[ True,  True,  True],\n",
       "        [ True,  True,  True],\n",
       "        [ True,  True,  True],\n",
       "        [ True,  True,  True]])"
      ]
     },
     "execution_count": 40,
     "metadata": {},
     "output_type": "execute_result"
    }
   ],
   "source": [
    "(A+B).T == (A.T)+(B.T)"
   ]
  },
  {
   "cell_type": "markdown",
   "id": "581d66f6",
   "metadata": {},
   "source": [
    " 5. Illustrate the following property of matrix transposition using these matrices (AC)^T = C^T A^T"
   ]
  },
  {
   "cell_type": "code",
   "execution_count": 42,
   "id": "906bf144",
   "metadata": {},
   "outputs": [
    {
     "data": {
      "text/plain": [
       "matrix([[ True,  True,  True],\n",
       "        [ True,  True,  True],\n",
       "        [ True,  True,  True],\n",
       "        [ True,  True,  True]])"
      ]
     },
     "execution_count": 42,
     "metadata": {},
     "output_type": "execute_result"
    }
   ],
   "source": [
    "(A*C).T == C.T * A.T"
   ]
  },
  {
   "cell_type": "markdown",
   "id": "e93f8602",
   "metadata": {},
   "source": [
    " 6. Fine C^−1 using Python code."
   ]
  },
  {
   "cell_type": "code",
   "execution_count": 44,
   "id": "380ba3fc",
   "metadata": {},
   "outputs": [
    {
     "data": {
      "text/plain": [
       "matrix([[ 0.14814815, -0.07407407,  0.14814815,  0.03703704],\n",
       "        [-0.3       ,  0.35      , -1.05      ,  0.25      ],\n",
       "        [ 0.02962963, -0.11481481,  0.52962963, -0.09259259],\n",
       "        [ 0.15555556,  0.02222222,  0.15555556, -0.11111111]])"
      ]
     },
     "execution_count": 44,
     "metadata": {},
     "output_type": "execute_result"
    }
   ],
   "source": [
    "inverse = np.linalg.inv(C) # numpy inverse function for matrix\n",
    "inverse"
   ]
  },
  {
   "cell_type": "markdown",
   "id": "e67b675f",
   "metadata": {},
   "source": [
    "### Working with Images"
   ]
  },
  {
   "cell_type": "markdown",
   "id": "36000e6e",
   "metadata": {},
   "source": [
    "1. Use the following code to display the image."
   ]
  },
  {
   "cell_type": "code",
   "execution_count": 58,
   "id": "938ad97b",
   "metadata": {},
   "outputs": [
    {
     "name": "stdout",
     "output_type": "stream",
     "text": [
      "1. Display the image\n"
     ]
    },
    {
     "data": {
      "image/png": "[encoded data removed]",
      "text/plain": [
       "<Figure size 640x480 with 1 Axes>"
      ]
     },
     "metadata": {},
     "output_type": "display_data"
    }
   ],
   "source": [
    "import cv2 #import the OpenCV libarry to read impages\n",
    "import matplotlib.pyplot as plt #import matplotlib to display the image\n",
    "\n",
    "# import the image; by default, OpenCV imports images in the BGR format\n",
    "image_bgr = cv2.imread(r'C:\\Users\\bharo\\OneDrive\\Documents\\pandas.jpg',cv2.IMREAD_COLOR)\n",
    "# convert the image to the RGB format\n",
    "image_rgb = cv2.cvtColor(image_bgr, cv2.COLOR_BGR2RGB)\n",
    "\n",
    "# Display the image\n",
    "print(\"1. Display the image\")\n",
    "plt.imshow(image_rgb)\n",
    "plt.axis(\"off\")\n",
    "plt.show()"
   ]
  },
  {
   "cell_type": "markdown",
   "id": "d28d54b2",
   "metadata": {},
   "source": [
    " 2. Find the resolution of this image. Hint: OpenCV imports the image as a Numpy array, where each\n",
    "pixel corresponds to an entry in the array.\n"
   ]
  },
  {
   "cell_type": "code",
   "execution_count": 65,
   "id": "15765639",
   "metadata": {},
   "outputs": [
    {
     "name": "stdout",
     "output_type": "stream",
     "text": [
      "the resolution of the image is: 177 by 284\n",
      "(177, 284, 3)\n"
     ]
    }
   ],
   "source": [
    "print ('the resolution of the image is:', image_rgb.shape[0], 'by', image_rgb.shape[1]) \n",
    "print(image_rgb.shape)"
   ]
  },
  {
   "cell_type": "markdown",
   "id": "b50deae4",
   "metadata": {},
   "source": [
    " 3. In checking the array dimensions, you should see that three numbers are displayed. What is this third\n",
    "number, and why is it there?\n",
    "\n",
    "    The third number represents the colors/ pixel i e. red, green, and blue."
   ]
  }
 ],
 "metadata": {
  "kernelspec": {
   "display_name": "Python 3 (ipykernel)",
   "language": "python",
   "name": "python3"
  },
  "language_info": {
   "codemirror_mode": {
    "name": "ipython",
    "version": 3
   },
   "file_extension": ".py",
   "mimetype": "text/x-python",
   "name": "python",
   "nbconvert_exporter": "python",
   "pygments_lexer": "ipython3",
   "version": "3.9.13"
  }
 },
 "nbformat": 4,
 "nbformat_minor": 5
}
